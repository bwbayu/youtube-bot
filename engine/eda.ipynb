{
 "cells": [
  {
   "cell_type": "code",
   "execution_count": 2,
   "id": "26914cc8",
   "metadata": {},
   "outputs": [
    {
     "name": "stderr",
     "output_type": "stream",
     "text": [
      "c:\\Users\\User\\Documents\\Code\\bot-judol\\engine\\env\\lib\\site-packages\\tqdm\\auto.py:21: TqdmWarning: IProgress not found. Please update jupyter and ipywidgets. See https://ipywidgets.readthedocs.io/en/stable/user_install.html\n",
      "  from .autonotebook import tqdm as notebook_tqdm\n"
     ]
    }
   ],
   "source": [
    "import pandas as pd\n",
    "from transformers import RobertaTokenizer, AutoTokenizer, BertTokenizer, AutoModelForSequenceClassification\n",
    "import matplotlib.pyplot as plt\n",
    "import seaborn as sns\n",
    "import unicodedata\n",
    "import re\n",
    "from bs4 import BeautifulSoup\n",
    "import torch\n",
    "import torch.nn.functional as F"
   ]
  },
  {
   "cell_type": "code",
   "execution_count": 16,
   "id": "13108aae",
   "metadata": {},
   "outputs": [
    {
     "data": {
      "text/html": [
       "<div>\n",
       "<style scoped>\n",
       "    .dataframe tbody tr th:only-of-type {\n",
       "        vertical-align: middle;\n",
       "    }\n",
       "\n",
       "    .dataframe tbody tr th {\n",
       "        vertical-align: top;\n",
       "    }\n",
       "\n",
       "    .dataframe thead th {\n",
       "        text-align: right;\n",
       "    }\n",
       "</style>\n",
       "<table border=\"1\" class=\"dataframe\">\n",
       "  <thead>\n",
       "    <tr style=\"text-align: right;\">\n",
       "      <th></th>\n",
       "      <th>label</th>\n",
       "      <th>username</th>\n",
       "      <th>video_id</th>\n",
       "      <th>comment</th>\n",
       "    </tr>\n",
       "  </thead>\n",
       "  <tbody>\n",
       "    <tr>\n",
       "      <th>0</th>\n",
       "      <td>NaN</td>\n",
       "      <td>@2NineFitIndonesia</td>\n",
       "      <td>QhmebdBeXKY</td>\n",
       "      <td>Kebanyakan Orang tua di Indonesia masih percay...</td>\n",
       "    </tr>\n",
       "    <tr>\n",
       "      <th>1</th>\n",
       "      <td>NaN</td>\n",
       "      <td>@azkamaulana6736</td>\n",
       "      <td>QhmebdBeXKY</td>\n",
       "      <td>Bang saya mau nanya saya sebenarnya sudah WO 1...</td>\n",
       "    </tr>\n",
       "    <tr>\n",
       "      <th>2</th>\n",
       "      <td>NaN</td>\n",
       "      <td>@Arwindarx</td>\n",
       "      <td>QhmebdBeXKY</td>\n",
       "      <td>👌🏽</td>\n",
       "    </tr>\n",
       "    <tr>\n",
       "      <th>3</th>\n",
       "      <td>NaN</td>\n",
       "      <td>@jauharsyarif6582</td>\n",
       "      <td>QhmebdBeXKY</td>\n",
       "      <td>Dari umur berapa yah baiknya anak mulai latiha...</td>\n",
       "    </tr>\n",
       "    <tr>\n",
       "      <th>4</th>\n",
       "      <td>NaN</td>\n",
       "      <td>@XyieroAldi1445</td>\n",
       "      <td>QhmebdBeXKY</td>\n",
       "      <td>Orang indo kebanyakan mitos😂</td>\n",
       "    </tr>\n",
       "  </tbody>\n",
       "</table>\n",
       "</div>"
      ],
      "text/plain": [
       "   label            username     video_id  \\\n",
       "0    NaN  @2NineFitIndonesia  QhmebdBeXKY   \n",
       "1    NaN    @azkamaulana6736  QhmebdBeXKY   \n",
       "2    NaN          @Arwindarx  QhmebdBeXKY   \n",
       "3    NaN   @jauharsyarif6582  QhmebdBeXKY   \n",
       "4    NaN     @XyieroAldi1445  QhmebdBeXKY   \n",
       "\n",
       "                                             comment  \n",
       "0  Kebanyakan Orang tua di Indonesia masih percay...  \n",
       "1  Bang saya mau nanya saya sebenarnya sudah WO 1...  \n",
       "2                                                 👌🏽  \n",
       "3  Dari umur berapa yah baiknya anak mulai latiha...  \n",
       "4                       Orang indo kebanyakan mitos😂  "
      ]
     },
     "execution_count": 16,
     "metadata": {},
     "output_type": "execute_result"
    }
   ],
   "source": [
    "df = pd.read_csv(\"scraping/clean/data_judol.csv\")\n",
    "df.head()"
   ]
  },
  {
   "cell_type": "code",
   "execution_count": null,
   "id": "d2d9bed6",
   "metadata": {},
   "outputs": [],
   "source": [
    "# Mapping untuk mengganti karakter mirip huruf/angka (visual clones)\n",
    "CHARACTER_MAP = {\n",
    "    # Unicode fancy to normal\n",
    "    '𝐀': 'A', '𝐁': 'B', '𝐂': 'C', '𝐃': 'D', '𝐄': 'E', '𝐅': 'F', '𝐆': 'G',\n",
    "    '𝐇': 'H', '𝐈': 'I', '𝐉': 'J', '𝐊': 'K', '𝐋': 'L', '𝐌': 'M', '𝐍': 'N',\n",
    "    '𝐎': 'O', '𝐏': 'P', '𝐐': 'Q', '𝐑': 'R', '𝐒': 'S', '𝐓': 'T', '𝐔': 'U',\n",
    "    '𝐕': 'V', '𝐖': 'W', '𝐗': 'X', '𝐘': 'Y', '𝐙': 'Z',\n",
    "    '𝐚': 'a', '𝐛': 'b', '𝐜': 'c', '𝐝': 'd', '𝐞': 'e', '𝐟': 'f', '𝐠': 'g',\n",
    "    '𝐡': 'h', '𝐢': 'i', '𝐣': 'j', '𝐤': 'k', '𝐥': 'l', '𝐦': 'm', '𝐧': 'n',\n",
    "    '𝐨': 'o', '𝐩': 'p', '𝐪': 'q', '𝐫': 'r', '𝐬': 's', '𝐭': 't', '𝐮': 'u',\n",
    "    '𝐯': 'v', '𝐰': 'w', '𝐱': 'x', '𝐲': 'y', '𝐳': 'z',\n",
    "    \n",
    "    # Gothic/Fraktur\n",
    "    '𝔄': 'A', '𝔅': 'B', 'ℭ': 'C', '𝔇': 'D', '𝔈': 'E', '𝔉': 'F', '𝔊': 'G',\n",
    "    '𝔍': 'J', '𝔎': 'K', '𝔏': 'L', '𝔐': 'M', '𝔑': 'N', '𝔒': 'O', '𝔓': 'P',\n",
    "    '𝔔': 'Q', 'ℜ': 'R', '𝔖': 'S', '𝔗': 'T', '𝔘': 'U', '𝔙': 'V', '𝔚': 'W',\n",
    "    '𝔛': 'X', '𝔜': 'Y', '𝔞': 'a', '𝔟': 'b', '𝔠': 'c', '𝔡': 'd',\n",
    "    '𝔢': 'e', '𝔣': 'f', '𝔤': 'g', '𝔥': 'h', '𝔦': 'i', '𝔧': 'j',\n",
    "    '𝔨': 'k', '𝔩': 'l', '𝔪': 'm', '𝔫': 'n', '𝔬': 'o', '𝔭': 'p',\n",
    "    '𝔮': 'q', '𝔯': 'r', '𝔰': 's', '𝔱': 't', '𝔲': 'u', '𝔳': 'v',\n",
    "    '𝔴': 'w', '𝔵': 'x', '𝔶': 'y', '𝔷': 'z',\n",
    "\n",
    "    # Emoji angka ke angka\n",
    "    '0️⃣': '0', '1️⃣': '1', '2️⃣': '2', '3️⃣': '3', '4️⃣': '4',\n",
    "    '5️⃣': '5', '6️⃣': '6', '7️⃣': '7', '8️⃣': '8', '9️⃣': '9',\n",
    "\n",
    "    # Unicode angka gaya\n",
    "    '𝟎': '0', '𝟏': '1', '𝟐': '2', '𝟑': '3', '𝟒': '4',\n",
    "    '𝟓': '5', '𝟔': '6', '𝟕': '7', '𝟖': '8', '𝟗': '9',\n",
    "\n",
    "    # Bulatan/simbol angka\n",
    "    '❶': '1', '❷': '2', '❸': '3', '❹': '4', '❺': '5',\n",
    "    '❻': '6', '❼': '7', '❽': '8', '❾': '9', '❿': '10',\n",
    "    \n",
    "    # Simbol huruf\n",
    "    'ⓐ': 'a', 'ⓑ': 'b', 'ⓒ': 'c', 'ⓓ': 'd', 'ⓔ': 'e', 'ⓕ': 'f', 'ⓖ': 'g',\n",
    "    'ⓗ': 'h', 'ⓘ': 'i', 'ⓙ': 'j', 'ⓚ': 'k', 'ⓛ': 'l', 'ⓜ': 'm', 'ⓝ': 'n',\n",
    "    'ⓞ': 'o', 'ⓟ': 'p', 'ⓠ': 'q', 'ⓡ': 'r', 'ⓢ': 's', 'ⓣ': 't', 'ⓤ': 'u',\n",
    "    'ⓥ': 'v', 'ⓦ': 'w', 'ⓧ': 'x', 'ⓨ': 'y', 'ⓩ': 'z',\n",
    "    \n",
    "    # Simbol aneh\n",
    "    'ᗪ': 'D', 'ᗩ': 'A', 'ᒪ': 'L', 'ᑭ': 'P', 'ᖇ': 'R', 'ᗷ': 'B', 'ᑕ': 'C', 'ᗷ': 'B',\n",
    "\n",
    "    '🅰️': 'A', '🅱️': 'B', '🅾️': 'O', '🆎': 'AB', '🆑': 'CL', '🆒': 'COOL',\n",
    "    '🆓': 'FREE', '🆔': 'ID', '🆕': 'NEW', '🆖': 'NG', '🆗': 'OK',\n",
    "    '🆘': 'SOS', '🆙': 'UP', '🆚': 'VS',\n",
    "\n",
    "    # Full A-Z boxed (manually added)\n",
    "    '🅿️': 'P', '🆀': 'Q', '🆁': 'R', '🆂': 'S', '🆃': 'T',\n",
    "    '🆄': 'U', '🆅': 'V', '🆆': 'W', '🆇': 'X', '🆈': 'Y', '🆉': 'Z',\n",
    "    '🅰': 'A', '🅱': 'B', '🅾': 'O', '🅿': 'P',\n",
    "\n",
    "    # Emoji 0-9 (opsional untuk konsistensi)\n",
    "    '0️⃣': '0', '1️⃣': '1', '2️⃣': '2', '3️⃣': '3', '4️⃣': '4',\n",
    "    '5️⃣': '5', '6️⃣': '6', '7️⃣': '7', '8️⃣': '8', '9️⃣': '9',\n",
    "\n",
    "    '🅰': 'A', '🅱': 'B', '🅲': 'C', '🅳': 'D', '🅴': 'E', '🅵': 'F',\n",
    "    '🅶': 'G', '🅷': 'H', '🅸': 'I', '🅹': 'J', '🅺': 'K', '🅻': 'L',\n",
    "    '🅼': 'M', '🅽': 'N', '🅾': 'O', '🅿': 'P', '🆀': 'Q', '🆁': 'R',\n",
    "    '🆂': 'S', '🆃': 'T', '🆄': 'U', '🆅': 'V', '🆆': 'W', '🆇': 'X',\n",
    "    '🆈': 'Y', '🆉': 'Z',\n",
    "    # Dengan VS16 (versi dengan emoji modifier) juga\n",
    "    '🅰️': 'A', '🅱️': 'B', '🅾️': 'O', '🅿️': 'P', '🆄️': 'U', '🅻️': 'L', '🆆️': 'W',\n",
    "    '🅸️': 'I', '🅽️': 'N', '🆃️': 'T', '🆂️': 'S', '🆅️': 'V', '🆇️': 'X', '🆈️': 'Y', '🆉️': 'Z',\n",
    "\n",
    "    '🅐': 'A', '🅑': 'B', '🅒': 'C', '🅓': 'D', '🅔': 'E', '🅕': 'F',\n",
    "    '🅖': 'G', '🅗': 'H', '🅘': 'I', '🅙': 'J', '🅚': 'K', '🅛': 'L',\n",
    "    '🅜': 'M', '🅝': 'N', '🅞': 'O', '🅟': 'P', '🅠': 'Q', '🅡': 'R',\n",
    "    '🅢': 'S', '🅣': 'T', '🅤': 'U', '🅥': 'V', '🅦': 'W', '🅧': 'X',\n",
    "    '🅨': 'Y', '🅩': 'Z',\n",
    "\n",
    "    # Enclosed numbers (circled)\n",
    "    '①': '1', '②': '2', '③': '3', '④': '4', '⑤': '5',\n",
    "    '⑥': '6', '⑦': '7', '⑧': '8', '⑨': '9', '⑩': '10',\n",
    "    '⑪': '11', '⑫': '12', '⑬': '13', '⑭': '14', '⑮': '15',\n",
    "    '⑯': '16', '⑰': '17', '⑱': '18', '⑲': '19', '⑳': '20',\n",
    "    '⓪': '0',\n",
    "\n",
    "    # Fullwidth digits\n",
    "    '０': '0', '１': '1', '２': '2', '３': '3', '４': '4',\n",
    "    '５': '5', '６': '6', '７': '7', '８': '8', '９': '9',\n",
    "\n",
    "    # Fullwidth A-Z\n",
    "    'Ａ': 'A', 'Ｂ': 'B', 'Ｃ': 'C', 'Ｄ': 'D', 'Ｅ': 'E', 'Ｆ': 'F',\n",
    "    'Ｇ': 'G', 'Ｈ': 'H', 'Ｉ': 'I', 'Ｊ': 'J', 'Ｋ': 'K', 'Ｌ': 'L',\n",
    "    'Ｍ': 'M', 'Ｎ': 'N', 'Ｏ': 'O', 'Ｐ': 'P', 'Ｑ': 'Q', 'Ｒ': 'R',\n",
    "    'Ｓ': 'S', 'Ｔ': 'T', 'Ｕ': 'U', 'Ｖ': 'V', 'Ｗ': 'W', 'Ｘ': 'X',\n",
    "    'Ｙ': 'Y', 'Ｚ': 'Z',\n",
    "\n",
    "    # Fullwidth a-z\n",
    "    'ａ': 'a', 'ｂ': 'b', 'ｃ': 'c', 'ｄ': 'd', 'ｅ': 'e', 'ｆ': 'f',\n",
    "    'ｇ': 'g', 'ｈ': 'h', 'ｉ': 'i', 'ｊ': 'j', 'ｋ': 'k', 'ｌ': 'l',\n",
    "    'ｍ': 'm', 'ｎ': 'n', 'ｏ': 'o', 'ｐ': 'p', 'ｑ': 'q', 'ｒ': 'r',\n",
    "    'ｓ': 's', 'ｔ': 't', 'ｕ': 'u', 'ｖ': 'v', 'ｗ': 'w', 'ｘ': 'x',\n",
    "    'ｙ': 'y', 'ｚ': 'z',\n",
    "\n",
    "    # Fancy bold letters a-z (𝐚 – 𝐳)\n",
    "    '𝐚': 'a', '𝐛': 'b', '𝐜': 'c', '𝐝': 'd', '𝐞': 'e', '𝐟': 'f',\n",
    "    '𝐠': 'g', '𝐡': 'h', '𝐢': 'i', '𝐣': 'j', '𝐤': 'k', '𝐥': 'l',\n",
    "    '𝐦': 'm', '𝐧': 'n', '𝐨': 'o', '𝐩': 'p', '𝐪': 'q', '𝐫': 'r',\n",
    "    '𝐬': 's', '𝐭': 't', '𝐮': 'u', '𝐯': 'v', '𝐰': 'w', '𝐱': 'x',\n",
    "    '𝐲': 'y', '𝐳': 'z',\n",
    "\n",
    "    # Math double-struck (𝔸 – 𝕫)\n",
    "    '𝔸': 'A', '𝔹': 'B', 'ℂ': 'C', '𝔻': 'D', '𝔼': 'E', '𝔽': 'F',\n",
    "    '𝔾': 'G', 'ℍ': 'H', '𝕀': 'I', '𝕁': 'J', '𝕂': 'K', '𝕃': 'L',\n",
    "    '𝕄': 'M', 'ℕ': 'N', '𝕆': 'O', 'ℙ': 'P', 'ℚ': 'Q', 'ℝ': 'R',\n",
    "    '𝕊': 'S', '𝕋': 'T', '𝕌': 'U', '𝕍': 'V', '𝕎': 'W', '𝕏': 'X',\n",
    "    '𝕐': 'Y', 'ℤ': 'Z',\n",
    "\n",
    "    '𝕒': 'a', '𝕓': 'b', '𝕔': 'c', '𝕕': 'd', '𝕖': 'e', '𝕗': 'f',\n",
    "    '𝕘': 'g', '𝕙': 'h', '𝕚': 'i', '𝕛': 'j', '𝕜': 'k', '𝕝': 'l',\n",
    "    '𝕞': 'm', '𝕟': 'n', '𝕠': 'o', '𝕡': 'p', '𝕢': 'q', '𝕣': 'r',\n",
    "    '𝕤': 's', '𝕥': 't', '𝕦': 'u', '𝕧': 'v', '𝕨': 'w', '𝕩': 'x',\n",
    "    '𝕪': 'y', '𝕫': 'z',\n",
    "\n",
    "    # Mathematical italic and script variants\n",
    "    '𝒜': 'A', '𝒞': 'C', '𝒟': 'D', '𝒢': 'G', '𝒥': 'J', '𝒦': 'K',\n",
    "    '𝒩': 'N', '𝒪': 'O', '𝒫': 'P', '𝒬': 'Q', '𝒮': 'S', '𝒯': 'T',\n",
    "    '𝒰': 'U', '𝒱': 'V', '𝒲': 'W', '𝒳': 'X', '𝒴': 'Y', '𝒵': 'Z',\n",
    "    '𝒶': 'a', '𝒷': 'b', '𝒸': 'c', '𝒹': 'd', '𝑒': 'e', '𝒻': 'f',\n",
    "    '𝑔': 'g', '𝒽': 'h', '𝒾': 'i', '𝒿': 'j', '𝓀': 'k', '𝓁': 'l',\n",
    "    '𝓂': 'm', '𝓃': 'n', '𝑜': 'o', '𝓅': 'p', '𝓆': 'q', '𝓇': 'r',\n",
    "    '𝓈': 's', '𝓉': 't', '𝓊': 'u', '𝓋': 'v', '𝓌': 'w', '𝓍': 'x',\n",
    "    '𝓎': 'y', '𝓏': 'z',\n",
    "\n",
    "    # Superscript & Subscript Numbers\n",
    "    '⁰': '0', '¹': '1', '²': '2', '³': '3',\n",
    "    '⁴': '4', '⁵': '5', '⁶': '6', '⁷': '7', '⁸': '8', '⁹': '9',\n",
    "\n",
    "    '₀': '0', '₁': '1', '₂': '2', '₃': '3',\n",
    "    '₄': '4', '₅': '5', '₆': '6', '₇': '7', '₈': '8', '₉': '9',\n",
    "\n",
    "    # Greek Lookalikes\n",
    "    'Α': 'A', 'Β': 'B', 'Ε': 'E', 'Ζ': 'Z', 'Η': 'H',\n",
    "    'Ι': 'I', 'Κ': 'K', 'Μ': 'M', 'Ν': 'N', 'Ο': 'O',\n",
    "    'Ρ': 'P', 'Τ': 'T', 'Υ': 'Y', 'Χ': 'X',\n",
    "\n",
    "    # Roman Numerals\n",
    "    'Ⅰ': '1', 'Ⅱ': '2', 'Ⅲ': '3', 'Ⅳ': '4', 'Ⅴ': '5',\n",
    "    'Ⅵ': '6', 'Ⅶ': '7', 'Ⅷ': '8', 'Ⅸ': '9', 'Ⅹ': '10',\n",
    "\n",
    "    # Braille Patterns\n",
    "    '⠁': 'A', '⠃': 'B', '⠉': 'C', '⠙': 'D', '⠑': 'E', '⠋': 'F',\n",
    "    '⠛': 'G', '⠓': 'H', '⠊': 'I', '⠚': 'J', '⠅': 'K', '⠇': 'L',\n",
    "    '⠍': 'M', '⠝': 'N', '⠕': 'O', '⠏': 'P', '⠟': 'Q', '⠗': 'R',\n",
    "    '⠎': 'S', '⠞': 'T', '⠥': 'U', '⠧': 'V', '⠺': 'W', '⠭': 'X',\n",
    "    '⠽': 'Y', '⠵': 'Z',\n",
    "\n",
    "    # Regional Indicator Symbols\n",
    "    '🇦': 'A', '🇧': 'B', '🇨': 'C', '🇩': 'D', '🇪': 'E',\n",
    "    '🇫': 'F', '🇬': 'G', '🇭': 'H', '🇮': 'I', '🇯': 'J',\n",
    "    '🇰': 'K', '🇱': 'L', '🇲': 'M', '🇳': 'N', '🇴': 'O',\n",
    "    '🇵': 'P', '🇶': 'Q', '🇷': 'R', '🇸': 'S', '🇹': 'T',\n",
    "    '🇺': 'U', '🇻': 'V', '🇼': 'W', '🇽': 'X', '🇾': 'Y',\n",
    "    '🇿': 'Z',\n",
    "\n",
    "    # Small Caps Unicode\n",
    "    'ᴀ': 'a', 'ʙ': 'b', 'ᴄ': 'c', 'ᴅ': 'd', 'ᴇ': 'e', 'ғ': 'f',\n",
    "    'ɢ': 'g', 'ʜ': 'h', 'ɪ': 'i', 'ᴊ': 'j', 'ᴋ': 'k', 'ʟ': 'l',\n",
    "    'ᴍ': 'm', 'ɴ': 'n', 'ᴏ': 'o', 'ᴘ': 'p', 'ǫ': 'q', 'ʀ': 'r',\n",
    "    's': 's', 'ᴛ': 't', 'ᴜ': 'u', 'ᴠ': 'v', 'ᴡ': 'w', 'x': 'x',\n",
    "    'ʏ': 'y', 'ᴢ': 'z', 'Ø': 'O',\n",
    "\n",
    "    # Greek\n",
    "    'Α': 'A',  # Alpha\n",
    "    'Β': 'B',  # Beta\n",
    "    'Ε': 'E',  # Epsilon\n",
    "    'Ζ': 'Z',  # Zeta\n",
    "    'Η': 'H',  # Eta\n",
    "    'Ι': 'I',  # Iota\n",
    "    'Κ': 'K',  # Kappa\n",
    "    'Μ': 'M',  # Mu\n",
    "    'Ν': 'N',  # Nu\n",
    "    'Ο': 'O',  # Omicron\n",
    "    'Ρ': 'P',  # Rho\n",
    "    'Τ': 'T',  # Tau\n",
    "    'Υ': 'Y',  # Upsilon\n",
    "    'Χ': 'X',  # Chi\n",
    "    'Λ': 'A',  # Lambda (🔴 kasus kamu)\n",
    "    'Δ': 'A',  # Delta (opsional)\n",
    "\n",
    "    # Cyrillic (Russian lookalikes)\n",
    "    'а': 'a', 'е': 'e', 'о': 'o', 'р': 'p', 'с': 'c', 'х': 'x',\n",
    "    'А': 'A', 'В': 'B', 'Е': 'E', 'К': 'K', 'М': 'M', 'Н': 'H',\n",
    "    'О': 'O', 'Р': 'P', 'С': 'C', 'Т': 'T', 'Х': 'X',\n",
    "\n",
    "    # \n",
    "    'ℬ': 'B', 'ℰ': 'E', 'ℱ': 'F', 'ℋ': 'H', 'ℐ': 'I', 'ℒ': 'L',\n",
    "    'ℳ': 'M', 'ℛ': 'R', 'ᗯ': 'W',  # Looks like capital W\n",
    "    'ᗷ': 'B',  # Looks like capital B\n",
    "    'ᗩ': 'A',\n",
    "    'ᒪ': 'L',\n",
    "    'ᑎ': 'N',\n",
    "    'ᑌ': 'U',\n",
    "    'ᗰ': 'M',\n",
    "    'ᑭ': 'P',\n",
    "    'ᑫ': 'Q',\n",
    "\n",
    "    # \n",
    "    'в': 'b', 'є': 'e', 'т': 't',\n",
    "    # Greek\n",
    "    'ρ': 'p', 'σ': 'o', 'η': 'n',\n",
    "\n",
    "    # Cyrillic & Greek lookalike Latin\n",
    "    'Α': 'A', 'А': 'A', 'Β': 'B', 'В': 'B', 'С': 'C', 'Е': 'E', 'Ε': 'E',\n",
    "    'Η': 'H', 'Н': 'H', 'Ι': 'I', 'І': 'I', 'Ј': 'J', 'Κ': 'K', 'К': 'K',\n",
    "    'Μ': 'M', 'М': 'M', 'Ν': 'N', 'О': 'O', 'Ο': 'O', 'Ρ': 'P', 'Р': 'P',\n",
    "    'Ѕ': 'S', 'Τ': 'T', 'Т': 'T', 'Χ': 'X', 'Х': 'X', 'Υ': 'Y', 'Ү': 'Y',\n",
    "    'а': 'a', 'с': 'c', 'е': 'e', 'є': 'e', 'ҽ': 'e', 'ɡ': 'g', 'һ': 'h',\n",
    "    'і': 'i', 'ӏ': 'i', '¡': 'i', 'ј': 'j', 'ο': 'o', 'о': 'o', 'ө': 'o',\n",
    "    'п': 'n', 'η': 'n', 'ρ': 'p', 'р': 'p', 'ѕ': 's', 'т': 't', 'ѵ': 'v',\n",
    "    'ν': 'v', 'в': 'b', 'х': 'x', 'χ': 'x', 'у': 'y', 'ү': 'y',\n",
    "\n",
    "    # Visual digit clones\n",
    "    '〇': '0', 'З': '3', 'Ƽ': '5', '߈': '4'\n",
    "}\n",
    "\n",
    "def strip_urls_and_timestamps(text: str) -> str:\n",
    "    # Hapus URL penuh (http, https, www)\n",
    "    text = re.sub(r'https?://\\S+|www\\.\\S+', '', text)\n",
    "\n",
    "    # Hapus URL shortener umum seperti bit.ly, t.co, dll.\n",
    "    text = re.sub(r'\\b(bit\\.ly|tinyurl\\.com|t\\.co|goo\\.gl|linktr\\.ee)/\\S+', '', text)\n",
    "\n",
    "    # Hapus timestamp video dalam format 00:12 atau 1:02:03\n",
    "    text = re.sub(r'\\b\\d{1,2}:\\d{2}(?::\\d{2})?\\b', '', text)\n",
    "\n",
    "    return text\n",
    "\n",
    "def strip_html_tags(text: str) -> str:\n",
    "    # Hapus seluruh tag HTML dan ambil teksnya saja\n",
    "    return BeautifulSoup(text, \"html.parser\").get_text()\n",
    "\n",
    "def strip_symbols_prefix(text: str) -> str:\n",
    "    # Ubah @mention dan #hashtag menjadi kata biasa tanpa simbolnya\n",
    "    return re.sub(r'[@#](\\w+)', r'\\1', text)\n",
    "\n",
    "# Fungsi utama normalisasi teks\n",
    "def normalize_text(text: str) -> str:\n",
    "    # Hapus tag HTML\n",
    "    text = strip_html_tags(text)\n",
    "\n",
    "    # Hapus URL, shortener, dan timestamp\n",
    "    text = strip_urls_and_timestamps(text)\n",
    "\n",
    "    # Hapus simbol @ dan # di awal kata (biarkan katanya tetap ada)\n",
    "    text = strip_symbols_prefix(text)\n",
    "\n",
    "    # Ganti karakter spesial berdasarkan peta karakter\n",
    "    text = ''.join(CHARACTER_MAP.get(char, char) for char in text)\n",
    "\n",
    "    # Normalisasi Unicode dan hapus karakter combining (misalnya aksen atau garis bawah panjang)\n",
    "    text = unicodedata.normalize('NFKD', text)\n",
    "    text = ''.join([c for c in text if not unicodedata.combining(c)])\n",
    "\n",
    "    # Hapus karakter zero-width/invisible seperti ZWJ dan ZWNJ\n",
    "    text = re.sub(r'[\\u200B\\u200C\\u200D\\uFEFF]', '', text)\n",
    "\n",
    "    # Hapus simbol/emoji non-informasi, hanya pertahankan huruf, angka, spasi, dan dash\n",
    "    text = re.sub(r'[^\\w\\s\\-]', ' ', text)\n",
    "\n",
    "    # Ubah ke huruf kecil dan hapus spasi di awal/akhir\n",
    "    return text.lower().strip()"
   ]
  },
  {
   "cell_type": "code",
   "execution_count": 35,
   "id": "480d3424",
   "metadata": {},
   "outputs": [],
   "source": [
    "df['clean_comment'] = df['comment'].apply(normalize_text)\n",
    "df['clean_comment'] = df['username'].fillna('').astype(str) + ' ' + df['clean_comment']"
   ]
  },
  {
   "cell_type": "code",
   "execution_count": 37,
   "id": "f1c2b57f",
   "metadata": {},
   "outputs": [
    {
     "data": {
      "text/html": [
       "<div>\n",
       "<style scoped>\n",
       "    .dataframe tbody tr th:only-of-type {\n",
       "        vertical-align: middle;\n",
       "    }\n",
       "\n",
       "    .dataframe tbody tr th {\n",
       "        vertical-align: top;\n",
       "    }\n",
       "\n",
       "    .dataframe thead th {\n",
       "        text-align: right;\n",
       "    }\n",
       "</style>\n",
       "<table border=\"1\" class=\"dataframe\">\n",
       "  <thead>\n",
       "    <tr style=\"text-align: right;\">\n",
       "      <th></th>\n",
       "      <th>label</th>\n",
       "      <th>username</th>\n",
       "      <th>video_id</th>\n",
       "      <th>comment</th>\n",
       "      <th>clean_comment</th>\n",
       "    </tr>\n",
       "  </thead>\n",
       "  <tbody>\n",
       "    <tr>\n",
       "      <th>0</th>\n",
       "      <td>NaN</td>\n",
       "      <td>@2NineFitIndonesia</td>\n",
       "      <td>QhmebdBeXKY</td>\n",
       "      <td>Kebanyakan Orang tua di Indonesia masih percay...</td>\n",
       "      <td>@2NineFitIndonesia kebanyakan orang tua di ind...</td>\n",
       "    </tr>\n",
       "    <tr>\n",
       "      <th>1</th>\n",
       "      <td>NaN</td>\n",
       "      <td>@azkamaulana6736</td>\n",
       "      <td>QhmebdBeXKY</td>\n",
       "      <td>Bang saya mau nanya saya sebenarnya sudah WO 1...</td>\n",
       "      <td>@azkamaulana6736 bang saya mau nanya saya sebe...</td>\n",
       "    </tr>\n",
       "    <tr>\n",
       "      <th>2</th>\n",
       "      <td>NaN</td>\n",
       "      <td>@Arwindarx</td>\n",
       "      <td>QhmebdBeXKY</td>\n",
       "      <td>👌🏽</td>\n",
       "      <td>@Arwindarx</td>\n",
       "    </tr>\n",
       "    <tr>\n",
       "      <th>3</th>\n",
       "      <td>NaN</td>\n",
       "      <td>@jauharsyarif6582</td>\n",
       "      <td>QhmebdBeXKY</td>\n",
       "      <td>Dari umur berapa yah baiknya anak mulai latiha...</td>\n",
       "      <td>@jauharsyarif6582 dari umur berapa yah baiknya...</td>\n",
       "    </tr>\n",
       "    <tr>\n",
       "      <th>4</th>\n",
       "      <td>NaN</td>\n",
       "      <td>@XyieroAldi1445</td>\n",
       "      <td>QhmebdBeXKY</td>\n",
       "      <td>Orang indo kebanyakan mitos😂</td>\n",
       "      <td>@XyieroAldi1445 orang indo kebanyakan mitos</td>\n",
       "    </tr>\n",
       "  </tbody>\n",
       "</table>\n",
       "</div>"
      ],
      "text/plain": [
       "   label            username     video_id  \\\n",
       "0    NaN  @2NineFitIndonesia  QhmebdBeXKY   \n",
       "1    NaN    @azkamaulana6736  QhmebdBeXKY   \n",
       "2    NaN          @Arwindarx  QhmebdBeXKY   \n",
       "3    NaN   @jauharsyarif6582  QhmebdBeXKY   \n",
       "4    NaN     @XyieroAldi1445  QhmebdBeXKY   \n",
       "\n",
       "                                             comment  \\\n",
       "0  Kebanyakan Orang tua di Indonesia masih percay...   \n",
       "1  Bang saya mau nanya saya sebenarnya sudah WO 1...   \n",
       "2                                                 👌🏽   \n",
       "3  Dari umur berapa yah baiknya anak mulai latiha...   \n",
       "4                       Orang indo kebanyakan mitos😂   \n",
       "\n",
       "                                       clean_comment  \n",
       "0  @2NineFitIndonesia kebanyakan orang tua di ind...  \n",
       "1  @azkamaulana6736 bang saya mau nanya saya sebe...  \n",
       "2                                        @Arwindarx   \n",
       "3  @jauharsyarif6582 dari umur berapa yah baiknya...  \n",
       "4        @XyieroAldi1445 orang indo kebanyakan mitos  "
      ]
     },
     "execution_count": 37,
     "metadata": {},
     "output_type": "execute_result"
    }
   ],
   "source": [
    "df.head()"
   ]
  },
  {
   "cell_type": "code",
   "execution_count": 48,
   "id": "87a6b2c9",
   "metadata": {},
   "outputs": [
    {
     "name": "stdout",
     "output_type": "stream",
     "text": [
      "Jumlah data setelah dibersihkan:\n",
      "- Total: 15571\n",
      "jumlah data string kosong\n",
      "0\n",
      "jumlah data duplikat\n",
      "1120\n"
     ]
    }
   ],
   "source": [
    "print(\"Jumlah data setelah dibersihkan:\")\n",
    "print(f\"- Total: {len(df)}\")\n",
    "print(\"jumlah data string kosong\")\n",
    "print(df[df['clean_comment'] == \"\"]['clean_comment'].count())\n",
    "print(\"jumlah data duplikat\")\n",
    "print(df[df['clean_comment'].duplicated()]['clean_comment'].count())"
   ]
  },
  {
   "cell_type": "code",
   "execution_count": 45,
   "id": "9f0f83b5",
   "metadata": {},
   "outputs": [],
   "source": [
    "df_clean = df[df['clean_comment'].str.strip() != \"\"]\n",
    "df_clean = df_clean.drop_duplicates(subset=['clean_comment'], keep='first')\n",
    "df_clean = df_clean.reset_index(drop=True)"
   ]
  },
  {
   "cell_type": "code",
   "execution_count": 46,
   "id": "9c7678e6",
   "metadata": {},
   "outputs": [
    {
     "name": "stdout",
     "output_type": "stream",
     "text": [
      "Jumlah data setelah dibersihkan:\n",
      "- Total: 14450\n",
      "- Kosong: 0\n",
      "- Duplikat: 0\n"
     ]
    }
   ],
   "source": [
    "print(\"Jumlah data setelah dibersihkan:\")\n",
    "print(f\"- Total: {len(df_clean)}\")\n",
    "print(f\"- Kosong: {df_clean[df_clean['clean_comment'].str.strip() == '']['clean_comment'].count()}\")\n",
    "print(f\"- Duplikat: {df_clean.duplicated(subset=['clean_comment']).sum()}\")"
   ]
  },
  {
   "cell_type": "code",
   "execution_count": 49,
   "id": "8dfb9493",
   "metadata": {},
   "outputs": [],
   "source": [
    "df_clean.to_csv(\"scraping/clean/data_judol_clean.csv\", index=False)"
   ]
  },
  {
   "cell_type": "markdown",
   "id": "d3450b65",
   "metadata": {},
   "source": [
    "## Concat Labeled Data"
   ]
  },
  {
   "cell_type": "code",
   "execution_count": 14,
   "id": "ee176a8e",
   "metadata": {},
   "outputs": [
    {
     "name": "stdout",
     "output_type": "stream",
     "text": [
      "<class 'pandas.core.frame.DataFrame'>\n",
      "Index: 14450 entries, 0 to 1471\n",
      "Data columns (total 5 columns):\n",
      " #   Column         Non-Null Count  Dtype \n",
      "---  ------         --------------  ----- \n",
      " 0   label          14450 non-null  object\n",
      " 1   username       10163 non-null  object\n",
      " 2   video_id       948 non-null    object\n",
      " 3   comment        14450 non-null  object\n",
      " 4   clean_comment  14450 non-null  object\n",
      "dtypes: object(5)\n",
      "memory usage: 677.3+ KB\n"
     ]
    }
   ],
   "source": [
    "import pandas as pd\n",
    "\n",
    "df1 = pd.read_csv(\"scraping/clean/data_judol_clean_1.csv\")\n",
    "df2 = pd.read_csv(\"scraping/clean/data_judol_clean_2.csv\")\n",
    "df_clean = pd.concat([df1, df2])\n",
    "df_clean.info()"
   ]
  },
  {
   "cell_type": "code",
   "execution_count": 15,
   "id": "2151db23",
   "metadata": {},
   "outputs": [],
   "source": [
    "df_clean.to_csv(\"scraping/clean/data_judol_cleanest.csv\", index=False)"
   ]
  },
  {
   "cell_type": "markdown",
   "id": "feebfc2a",
   "metadata": {},
   "source": [
    "## Balanced Data"
   ]
  },
  {
   "cell_type": "code",
   "execution_count": 24,
   "id": "c31d00e4",
   "metadata": {},
   "outputs": [
    {
     "data": {
      "text/html": [
       "<div>\n",
       "<style scoped>\n",
       "    .dataframe tbody tr th:only-of-type {\n",
       "        vertical-align: middle;\n",
       "    }\n",
       "\n",
       "    .dataframe tbody tr th {\n",
       "        vertical-align: top;\n",
       "    }\n",
       "\n",
       "    .dataframe thead th {\n",
       "        text-align: right;\n",
       "    }\n",
       "</style>\n",
       "<table border=\"1\" class=\"dataframe\">\n",
       "  <thead>\n",
       "    <tr style=\"text-align: right;\">\n",
       "      <th></th>\n",
       "      <th>label</th>\n",
       "      <th>username</th>\n",
       "      <th>video_id</th>\n",
       "      <th>comment</th>\n",
       "      <th>clean_comment</th>\n",
       "    </tr>\n",
       "  </thead>\n",
       "  <tbody>\n",
       "    <tr>\n",
       "      <th>0</th>\n",
       "      <td>1.0</td>\n",
       "      <td>NaN</td>\n",
       "      <td>NaN</td>\n",
       "      <td>Rezeki dari 𝘈𝐺𝑈S𝐓𝐎𝘛О-bikin senyum lebar hari i...</td>\n",
       "      <td>rezeki dari agustoto-bikin senyum lebar hari ...</td>\n",
       "    </tr>\n",
       "    <tr>\n",
       "      <th>1</th>\n",
       "      <td>1.0</td>\n",
       "      <td>NaN</td>\n",
       "      <td>NaN</td>\n",
       "      <td>Pecah banget di 𝘈𝐺𝑈S𝐓𝐎𝘛О</td>\n",
       "      <td>pecah banget di agustoto</td>\n",
       "    </tr>\n",
       "    <tr>\n",
       "      <th>2</th>\n",
       "      <td>1.0</td>\n",
       "      <td>NaN</td>\n",
       "      <td>NaN</td>\n",
       "      <td>𝘈𝐺𝑈S𝐓𝐎𝘛О ini beda sih, gacornya kebangetan bik...</td>\n",
       "      <td>agustoto ini beda sih  gacornya kebangetan bi...</td>\n",
       "    </tr>\n",
       "    <tr>\n",
       "      <th>3</th>\n",
       "      <td>1.0</td>\n",
       "      <td>NaN</td>\n",
       "      <td>NaN</td>\n",
       "      <td>𝘈𝐺𝑈S𝐓𝐎𝘛Оmenyediakan ruang untuk kolaborasi dan...</td>\n",
       "      <td>agustotomenyediakan ruang untuk kolaborasi da...</td>\n",
       "    </tr>\n",
       "    <tr>\n",
       "      <th>4</th>\n",
       "      <td>1.0</td>\n",
       "      <td>NaN</td>\n",
       "      <td>NaN</td>\n",
       "      <td>Begitu mantap dan memuaskan! Bermain di 𝘈𝐺𝑈S𝐓𝐎...</td>\n",
       "      <td>begitu mantap dan memuaskan  bermain di agust...</td>\n",
       "    </tr>\n",
       "  </tbody>\n",
       "</table>\n",
       "</div>"
      ],
      "text/plain": [
       "   label username video_id                                            comment  \\\n",
       "0    1.0      NaN      NaN  Rezeki dari 𝘈𝐺𝑈S𝐓𝐎𝘛О-bikin senyum lebar hari i...   \n",
       "1    1.0      NaN      NaN                           Pecah banget di 𝘈𝐺𝑈S𝐓𝐎𝘛О   \n",
       "2    1.0      NaN      NaN  𝘈𝐺𝑈S𝐓𝐎𝘛О ini beda sih, gacornya kebangetan bik...   \n",
       "3    1.0      NaN      NaN  𝘈𝐺𝑈S𝐓𝐎𝘛Оmenyediakan ruang untuk kolaborasi dan...   \n",
       "4    1.0      NaN      NaN  Begitu mantap dan memuaskan! Bermain di 𝘈𝐺𝑈S𝐓𝐎...   \n",
       "\n",
       "                                       clean_comment  \n",
       "0   rezeki dari agustoto-bikin senyum lebar hari ...  \n",
       "1                           pecah banget di agustoto  \n",
       "2   agustoto ini beda sih  gacornya kebangetan bi...  \n",
       "3   agustotomenyediakan ruang untuk kolaborasi da...  \n",
       "4   begitu mantap dan memuaskan  bermain di agust...  "
      ]
     },
     "execution_count": 24,
     "metadata": {},
     "output_type": "execute_result"
    }
   ],
   "source": [
    "df1 = pd.read_csv(\"scraping/clean/data_judol_clean_1.csv\")\n",
    "df2 = pd.read_csv(\"scraping/clean/data_judol_clean_2.csv\")\n",
    "df_balance = pd.concat([df2, df1])\n",
    "df_balance.head()"
   ]
  },
  {
   "cell_type": "code",
   "execution_count": 25,
   "id": "7a1bf4a1",
   "metadata": {},
   "outputs": [
    {
     "data": {
      "text/plain": [
       "label_category\n",
       "False    11363\n",
       "True      3087\n",
       "Name: count, dtype: int64"
      ]
     },
     "execution_count": 25,
     "metadata": {},
     "output_type": "execute_result"
    }
   ],
   "source": [
    "df_balance['label_category'] = df_balance['label'] >= 0.5\n",
    "df_balance['label_category'].value_counts()"
   ]
  },
  {
   "cell_type": "code",
   "execution_count": 29,
   "id": "667fae5b",
   "metadata": {},
   "outputs": [
    {
     "name": "stdout",
     "output_type": "stream",
     "text": [
      "<class 'pandas.core.frame.DataFrame'>\n",
      "RangeIndex: 3100 entries, 0 to 3099\n",
      "Data columns (total 6 columns):\n",
      " #   Column          Non-Null Count  Dtype  \n",
      "---  ------          --------------  -----  \n",
      " 0   label           3100 non-null   float64\n",
      " 1   username        1269 non-null   object \n",
      " 2   video_id        329 non-null    object \n",
      " 3   comment         3100 non-null   object \n",
      " 4   clean_comment   3100 non-null   object \n",
      " 5   label_category  3100 non-null   bool   \n",
      "dtypes: bool(1), float64(1), object(4)\n",
      "memory usage: 124.2+ KB\n"
     ]
    }
   ],
   "source": [
    "# balance data\n",
    "df_false = df_balance[df_balance['label_category'] == False].reset_index(drop=True)\n",
    "df_false = df_false[:3100]\n",
    "df_false.info()"
   ]
  },
  {
   "cell_type": "code",
   "execution_count": 30,
   "id": "2466b6c9",
   "metadata": {},
   "outputs": [
    {
     "name": "stdout",
     "output_type": "stream",
     "text": [
      "<class 'pandas.core.frame.DataFrame'>\n",
      "RangeIndex: 3087 entries, 0 to 3086\n",
      "Data columns (total 6 columns):\n",
      " #   Column          Non-Null Count  Dtype  \n",
      "---  ------          --------------  -----  \n",
      " 0   label           3087 non-null   float64\n",
      " 1   username        1525 non-null   object \n",
      " 2   video_id        619 non-null    object \n",
      " 3   comment         3087 non-null   object \n",
      " 4   clean_comment   3087 non-null   object \n",
      " 5   label_category  3087 non-null   bool   \n",
      "dtypes: bool(1), float64(1), object(4)\n",
      "memory usage: 123.7+ KB\n"
     ]
    }
   ],
   "source": [
    "df_true = df_balance[df_balance['label_category'] == True].reset_index(drop=True)\n",
    "df_true.info()"
   ]
  },
  {
   "cell_type": "code",
   "execution_count": 31,
   "id": "fb8d3980",
   "metadata": {},
   "outputs": [
    {
     "name": "stdout",
     "output_type": "stream",
     "text": [
      "<class 'pandas.core.frame.DataFrame'>\n",
      "RangeIndex: 6187 entries, 0 to 6186\n",
      "Data columns (total 6 columns):\n",
      " #   Column          Non-Null Count  Dtype  \n",
      "---  ------          --------------  -----  \n",
      " 0   label           6187 non-null   float64\n",
      " 1   username        2794 non-null   object \n",
      " 2   video_id        948 non-null    object \n",
      " 3   comment         6187 non-null   object \n",
      " 4   clean_comment   6187 non-null   object \n",
      " 5   label_category  6187 non-null   bool   \n",
      "dtypes: bool(1), float64(1), object(4)\n",
      "memory usage: 247.8+ KB\n"
     ]
    }
   ],
   "source": [
    "df_last = pd.concat([df_true, df_false])\n",
    "df_last.reset_index(inplace=True, drop=True)\n",
    "df_last.info()"
   ]
  },
  {
   "cell_type": "code",
   "execution_count": 32,
   "id": "c8e13aad",
   "metadata": {},
   "outputs": [
    {
     "data": {
      "text/plain": [
       "label_category\n",
       "False    3100\n",
       "True     3087\n",
       "Name: count, dtype: int64"
      ]
     },
     "execution_count": 32,
     "metadata": {},
     "output_type": "execute_result"
    }
   ],
   "source": [
    "df_last['label_category'].value_counts()"
   ]
  },
  {
   "cell_type": "code",
   "execution_count": 33,
   "id": "02d7cc3e",
   "metadata": {},
   "outputs": [],
   "source": [
    "df_last.to_csv(\"scraping/clean/data_judol_balanced.csv\", index=False)"
   ]
  },
  {
   "cell_type": "markdown",
   "id": "1fc5abeb",
   "metadata": {},
   "source": [
    "## Data Analysis"
   ]
  },
  {
   "cell_type": "code",
   "execution_count": 7,
   "id": "3063290c",
   "metadata": {},
   "outputs": [
    {
     "name": "stdout",
     "output_type": "stream",
     "text": [
      "<class 'pandas.core.frame.DataFrame'>\n",
      "RangeIndex: 6187 entries, 0 to 6186\n",
      "Data columns (total 6 columns):\n",
      " #   Column          Non-Null Count  Dtype \n",
      "---  ------          --------------  ----- \n",
      " 0   label           6187 non-null   int64 \n",
      " 1   username        2794 non-null   object\n",
      " 2   video_id        948 non-null    object\n",
      " 3   comment         6187 non-null   object\n",
      " 4   clean_comment   6187 non-null   object\n",
      " 5   label_category  6187 non-null   bool  \n",
      "dtypes: bool(1), int64(1), object(4)\n",
      "memory usage: 247.8+ KB\n"
     ]
    }
   ],
   "source": [
    "df = pd.read_csv(\"scraping/clean/data_judol_balanced.csv\")\n",
    "df = df.sample(frac=1)\n",
    "df['label'] = df['label'].astype(int)\n",
    "df.reset_index(inplace=True, drop=True)\n",
    "df.info()"
   ]
  },
  {
   "cell_type": "code",
   "execution_count": 8,
   "id": "7d701ac4",
   "metadata": {},
   "outputs": [
    {
     "data": {
      "image/png": "[encoded data removed]",
      "text/plain": [
       "<Figure size 640x480 with 1 Axes>"
      ]
     },
     "metadata": {},
     "output_type": "display_data"
    }
   ],
   "source": [
    "sns.countplot(x='label_category', data=df, hue='label_category')\n",
    "plt.title('Label Distribution')\n",
    "plt.xlabel('Label')\n",
    "plt.ylabel('Count')\n",
    "plt.grid(axis='y')\n",
    "plt.show()"
   ]
  },
  {
   "cell_type": "code",
   "execution_count": null,
   "id": "dd3f6e84",
   "metadata": {},
   "outputs": [
    {
     "data": {
      "text/html": [
       "<div>\n",
       "<style scoped>\n",
       "    .dataframe tbody tr th:only-of-type {\n",
       "        vertical-align: middle;\n",
       "    }\n",
       "\n",
       "    .dataframe tbody tr th {\n",
       "        vertical-align: top;\n",
       "    }\n",
       "\n",
       "    .dataframe thead th {\n",
       "        text-align: right;\n",
       "    }\n",
       "</style>\n",
       "<table border=\"1\" class=\"dataframe\">\n",
       "  <thead>\n",
       "    <tr style=\"text-align: right;\">\n",
       "      <th></th>\n",
       "      <th>label</th>\n",
       "      <th>username</th>\n",
       "      <th>video_id</th>\n",
       "      <th>comment</th>\n",
       "      <th>clean_comment</th>\n",
       "      <th>label_category</th>\n",
       "      <th>token_len</th>\n",
       "    </tr>\n",
       "  </thead>\n",
       "  <tbody>\n",
       "  </tbody>\n",
       "</table>\n",
       "</div>"
      ],
      "text/plain": [
       "Empty DataFrame\n",
       "Columns: [label, username, video_id, comment, clean_comment, label_category, token_len]\n",
       "Index: []"
      ]
     },
     "execution_count": 9,
     "metadata": {},
     "output_type": "execute_result"
    }
   ],
   "source": [
    "# number of token in the comment data\n",
    "tokenizer = RobertaTokenizer.from_pretrained(\"distilbert/distilroberta-base\")\n",
    "\n",
    "def count_token(text):\n",
    "    input_ids = tokenizer(text)['input_ids']\n",
    "    return len(input_ids)\n",
    "\n",
    "df['token_len'] = df['clean_comment'].apply(count_token)\n",
    "df[df['token_len'] > 510] # check if there is data with token length > 512 (max_input model)"
   ]
  },
  {
   "cell_type": "markdown",
   "id": "d5f0b6b6",
   "metadata": {},
   "source": [
    "## Prediction Analysis"
   ]
  },
  {
   "cell_type": "code",
   "execution_count": 2,
   "id": "9f79ecf2",
   "metadata": {},
   "outputs": [
    {
     "data": {
      "text/html": [
       "<div>\n",
       "<style scoped>\n",
       "    .dataframe tbody tr th:only-of-type {\n",
       "        vertical-align: middle;\n",
       "    }\n",
       "\n",
       "    .dataframe tbody tr th {\n",
       "        vertical-align: top;\n",
       "    }\n",
       "\n",
       "    .dataframe thead th {\n",
       "        text-align: right;\n",
       "    }\n",
       "</style>\n",
       "<table border=\"1\" class=\"dataframe\">\n",
       "  <thead>\n",
       "    <tr style=\"text-align: right;\">\n",
       "      <th></th>\n",
       "      <th>text</th>\n",
       "      <th>label</th>\n",
       "      <th>prediction</th>\n",
       "    </tr>\n",
       "  </thead>\n",
       "  <tbody>\n",
       "    <tr>\n",
       "      <th>523</th>\n",
       "      <td>biarkan wibu menikmati acaranya selagi ngga m...</td>\n",
       "      <td>0</td>\n",
       "      <td>1</td>\n",
       "    </tr>\n",
       "  </tbody>\n",
       "</table>\n",
       "</div>"
      ],
      "text/plain": [
       "                                                  text  label  prediction\n",
       "523   biarkan wibu menikmati acaranya selagi ngga m...      0           1"
      ]
     },
     "execution_count": 2,
     "metadata": {},
     "output_type": "execute_result"
    }
   ],
   "source": [
    "df_roberta = pd.read_csv(\"data/prediction/preds_distilroberta.csv\")\n",
    "df_roberta[df_roberta['label'] != df_roberta['prediction']]"
   ]
  },
  {
   "cell_type": "code",
   "execution_count": 3,
   "id": "0fce6d4c",
   "metadata": {},
   "outputs": [
    {
     "data": {
      "text/html": [
       "<div>\n",
       "<style scoped>\n",
       "    .dataframe tbody tr th:only-of-type {\n",
       "        vertical-align: middle;\n",
       "    }\n",
       "\n",
       "    .dataframe tbody tr th {\n",
       "        vertical-align: top;\n",
       "    }\n",
       "\n",
       "    .dataframe thead th {\n",
       "        text-align: right;\n",
       "    }\n",
       "</style>\n",
       "<table border=\"1\" class=\"dataframe\">\n",
       "  <thead>\n",
       "    <tr style=\"text-align: right;\">\n",
       "      <th></th>\n",
       "      <th>text</th>\n",
       "      <th>label</th>\n",
       "      <th>prediction</th>\n",
       "    </tr>\n",
       "  </thead>\n",
       "  <tbody>\n",
       "    <tr>\n",
       "      <th>25</th>\n",
       "      <td>@Zeora_ෆ ter pelantung dikit tidak ngaruh boyy...</td>\n",
       "      <td>0</td>\n",
       "      <td>1</td>\n",
       "    </tr>\n",
       "    <tr>\n",
       "      <th>413</th>\n",
       "      <td>@Demon獄 detik ke 59sebelum berhenti memakai g4...</td>\n",
       "      <td>0</td>\n",
       "      <td>1</td>\n",
       "    </tr>\n",
       "  </tbody>\n",
       "</table>\n",
       "</div>"
      ],
      "text/plain": [
       "                                                  text  label  prediction\n",
       "25   @Zeora_ෆ ter pelantung dikit tidak ngaruh boyy...      0           1\n",
       "413  @Demon獄 detik ke 59sebelum berhenti memakai g4...      0           1"
      ]
     },
     "execution_count": 3,
     "metadata": {},
     "output_type": "execute_result"
    }
   ],
   "source": [
    "df_indobert = pd.read_csv(\"data/prediction/preds_indobert-lite.csv\")\n",
    "df_indobert[df_indobert['label'] != df_indobert['prediction']]"
   ]
  },
  {
   "cell_type": "code",
   "execution_count": 4,
   "id": "c69fe02b",
   "metadata": {},
   "outputs": [],
   "source": [
    "def get_tokenizer(model_name):\n",
    "    try:\n",
    "        return \n",
    "    except:\n",
    "        return BertTokenizer.from_pretrained(model_name)\n",
    "    \n",
    "def get_prediction(text, tokenizer, model):\n",
    "    inputs = tokenizer(text, max_length=512, truncation=True, padding='max_length', return_tensors=\"pt\")\n",
    "    inputs = {k: v.to('cuda') for k, v in inputs.items()}\n",
    "    with torch.no_grad():\n",
    "        outputs = model(**inputs)\n",
    "        preds = torch.argmax(outputs.logits, dim=1)\n",
    "        probabilities = F.softmax(outputs.logits, dim=1)\n",
    "        confidence_score = torch.max(probabilities).item()\n",
    "    \n",
    "    return preds, confidence_score\n",
    "\n",
    "def inference(text):\n",
    "    # model name\n",
    "    model_roberta = \"distilbert/distilroberta-base\"\n",
    "    model_indobert = \"indobenchmark/indobert-lite-base-p2\"\n",
    "    # load tokenizer\n",
    "    tokenizer_roberta = AutoTokenizer.from_pretrained(model_roberta)\n",
    "    tokenizer_indobert = BertTokenizer.from_pretrained(model_indobert)\n",
    "\n",
    "    # load model\n",
    "    model_roberta = AutoModelForSequenceClassification.from_pretrained(model_roberta, num_labels=2).to('cuda')\n",
    "    model_roberta.load_state_dict(torch.load(\"models/best_roberta.pt\", weights_only=True))\n",
    "    model_roberta.eval()\n",
    "    model_indobert = AutoModelForSequenceClassification.from_pretrained(model_indobert, num_labels=2).to('cuda')\n",
    "    model_indobert.load_state_dict(torch.load(\"models/best_indobert.pt\", weights_only=True))\n",
    "    model_indobert.eval()\n",
    "\n",
    "    # roberta prediction\n",
    "    preds_roberta, confidence_score_roberta = get_prediction(text, tokenizer_roberta, model_roberta)\n",
    "    print(f\"Roberta -> Prediction : {True if preds_roberta else False} | Confidence : {confidence_score_roberta}\")\n",
    "    \n",
    "    # indobert prediction\n",
    "    preds_indobert, confidence_score_indobert = get_prediction(text, tokenizer_indobert, model_indobert)\n",
    "    print(f\"IndoBERT -> Prediction : {True if preds_indobert else False} | Confidence : {confidence_score_indobert}\")"
   ]
  },
  {
   "cell_type": "code",
   "execution_count": 5,
   "id": "f4ade7d9",
   "metadata": {},
   "outputs": [
    {
     "name": "stderr",
     "output_type": "stream",
     "text": [
      "The tokenizer class you load from this checkpoint is not the same type as the class this function is called from. It may result in unexpected tokenization. \n",
      "The tokenizer class you load from this checkpoint is 'AlbertTokenizerFast'. \n",
      "The class this function is called from is 'BertTokenizer'.\n",
      "Some weights of RobertaForSequenceClassification were not initialized from the model checkpoint at distilbert/distilroberta-base and are newly initialized: ['classifier.dense.bias', 'classifier.dense.weight', 'classifier.out_proj.bias', 'classifier.out_proj.weight']\n",
      "You should probably TRAIN this model on a down-stream task to be able to use it for predictions and inference.\n",
      "Some weights of AlbertForSequenceClassification were not initialized from the model checkpoint at indobenchmark/indobert-lite-base-p2 and are newly initialized: ['classifier.bias', 'classifier.weight']\n",
      "You should probably TRAIN this model on a down-stream task to be able to use it for predictions and inference.\n"
     ]
    },
    {
     "name": "stdout",
     "output_type": "stream",
     "text": [
      "Roberta -> Prediction : True | Confidence : 0.9998264908790588\n",
      "IndoBERT -> Prediction : True | Confidence : 0.9998792409896851\n"
     ]
    }
   ],
   "source": [
    "inference(\"agustoto123 tempat sampah\")"
   ]
  },
  {
   "cell_type": "code",
   "execution_count": 6,
   "id": "45128956",
   "metadata": {},
   "outputs": [
    {
     "name": "stderr",
     "output_type": "stream",
     "text": [
      "The tokenizer class you load from this checkpoint is not the same type as the class this function is called from. It may result in unexpected tokenization. \n",
      "The tokenizer class you load from this checkpoint is 'AlbertTokenizerFast'. \n",
      "The class this function is called from is 'BertTokenizer'.\n",
      "Some weights of RobertaForSequenceClassification were not initialized from the model checkpoint at distilbert/distilroberta-base and are newly initialized: ['classifier.dense.bias', 'classifier.dense.weight', 'classifier.out_proj.bias', 'classifier.out_proj.weight']\n",
      "You should probably TRAIN this model on a down-stream task to be able to use it for predictions and inference.\n",
      "Some weights of AlbertForSequenceClassification were not initialized from the model checkpoint at indobenchmark/indobert-lite-base-p2 and are newly initialized: ['classifier.bias', 'classifier.weight']\n",
      "You should probably TRAIN this model on a down-stream task to be able to use it for predictions and inference.\n"
     ]
    },
    {
     "name": "stdout",
     "output_type": "stream",
     "text": [
      "Roberta -> Prediction : True | Confidence : 0.9997720122337341\n",
      "IndoBERT -> Prediction : True | Confidence : 0.9996557235717773\n"
     ]
    }
   ],
   "source": [
    "inference(\"aero123 juga tempat sampah\")"
   ]
  },
  {
   "cell_type": "code",
   "execution_count": 7,
   "id": "a662d325",
   "metadata": {},
   "outputs": [
    {
     "name": "stderr",
     "output_type": "stream",
     "text": [
      "The tokenizer class you load from this checkpoint is not the same type as the class this function is called from. It may result in unexpected tokenization. \n",
      "The tokenizer class you load from this checkpoint is 'AlbertTokenizerFast'. \n",
      "The class this function is called from is 'BertTokenizer'.\n",
      "Some weights of RobertaForSequenceClassification were not initialized from the model checkpoint at distilbert/distilroberta-base and are newly initialized: ['classifier.dense.bias', 'classifier.dense.weight', 'classifier.out_proj.bias', 'classifier.out_proj.weight']\n",
      "You should probably TRAIN this model on a down-stream task to be able to use it for predictions and inference.\n",
      "Some weights of AlbertForSequenceClassification were not initialized from the model checkpoint at indobenchmark/indobert-lite-base-p2 and are newly initialized: ['classifier.bias', 'classifier.weight']\n",
      "You should probably TRAIN this model on a down-stream task to be able to use it for predictions and inference.\n"
     ]
    },
    {
     "name": "stdout",
     "output_type": "stream",
     "text": [
      "Roberta -> Prediction : True | Confidence : 0.9997352957725525\n",
      "IndoBERT -> Prediction : True | Confidence : 0.9998722076416016\n"
     ]
    }
   ],
   "source": [
    "inference(\"situs123 tempat gacor dari 10k jadi -100 juta\")"
   ]
  },
  {
   "cell_type": "code",
   "execution_count": 8,
   "id": "c9f82b03",
   "metadata": {},
   "outputs": [
    {
     "name": "stderr",
     "output_type": "stream",
     "text": [
      "The tokenizer class you load from this checkpoint is not the same type as the class this function is called from. It may result in unexpected tokenization. \n",
      "The tokenizer class you load from this checkpoint is 'AlbertTokenizerFast'. \n",
      "The class this function is called from is 'BertTokenizer'.\n",
      "Some weights of RobertaForSequenceClassification were not initialized from the model checkpoint at distilbert/distilroberta-base and are newly initialized: ['classifier.dense.bias', 'classifier.dense.weight', 'classifier.out_proj.bias', 'classifier.out_proj.weight']\n",
      "You should probably TRAIN this model on a down-stream task to be able to use it for predictions and inference.\n",
      "Some weights of AlbertForSequenceClassification were not initialized from the model checkpoint at indobenchmark/indobert-lite-base-p2 and are newly initialized: ['classifier.bias', 'classifier.weight']\n",
      "You should probably TRAIN this model on a down-stream task to be able to use it for predictions and inference.\n"
     ]
    },
    {
     "name": "stdout",
     "output_type": "stream",
     "text": [
      "Roberta -> Prediction : True | Confidence : 0.9978505373001099\n",
      "IndoBERT -> Prediction : False | Confidence : 0.9974023699760437\n"
     ]
    }
   ],
   "source": [
    "inference(\"emang gacor klo solat 5 waktu di masjid, pahala ngalir coy\")"
   ]
  },
  {
   "cell_type": "markdown",
   "id": "da9bf1d5",
   "metadata": {},
   "source": [
    "## Benchmark Analysis"
   ]
  },
  {
   "cell_type": "code",
   "execution_count": 19,
   "id": "4c978fb4",
   "metadata": {},
   "outputs": [
    {
     "data": {
      "text/html": [
       "<div>\n",
       "<style scoped>\n",
       "    .dataframe tbody tr th:only-of-type {\n",
       "        vertical-align: middle;\n",
       "    }\n",
       "\n",
       "    .dataframe tbody tr th {\n",
       "        vertical-align: top;\n",
       "    }\n",
       "\n",
       "    .dataframe thead th {\n",
       "        text-align: right;\n",
       "    }\n",
       "</style>\n",
       "<table border=\"1\" class=\"dataframe\">\n",
       "  <thead>\n",
       "    <tr style=\"text-align: right;\">\n",
       "      <th></th>\n",
       "      <th>model</th>\n",
       "      <th>device</th>\n",
       "      <th>batch_size</th>\n",
       "      <th>peak_mem_mb</th>\n",
       "      <th>time_per_sample</th>\n",
       "    </tr>\n",
       "  </thead>\n",
       "  <tbody>\n",
       "    <tr>\n",
       "      <th>0</th>\n",
       "      <td>IndoBERT-lite</td>\n",
       "      <td>CPU</td>\n",
       "      <td>1</td>\n",
       "      <td>1269.070312</td>\n",
       "      <td>0.021330</td>\n",
       "    </tr>\n",
       "    <tr>\n",
       "      <th>1</th>\n",
       "      <td>IndoBERT-lite</td>\n",
       "      <td>GPU</td>\n",
       "      <td>1</td>\n",
       "      <td>55.974609</td>\n",
       "      <td>0.006908</td>\n",
       "    </tr>\n",
       "    <tr>\n",
       "      <th>2</th>\n",
       "      <td>DistilRoBERTa</td>\n",
       "      <td>CPU</td>\n",
       "      <td>1</td>\n",
       "      <td>1522.238281</td>\n",
       "      <td>0.015379</td>\n",
       "    </tr>\n",
       "    <tr>\n",
       "      <th>3</th>\n",
       "      <td>DistilRoBERTa</td>\n",
       "      <td>GPU</td>\n",
       "      <td>1</td>\n",
       "      <td>373.151855</td>\n",
       "      <td>0.004164</td>\n",
       "    </tr>\n",
       "    <tr>\n",
       "      <th>4</th>\n",
       "      <td>IndoBERT-lite</td>\n",
       "      <td>CPU</td>\n",
       "      <td>4</td>\n",
       "      <td>1268.304688</td>\n",
       "      <td>0.005356</td>\n",
       "    </tr>\n",
       "  </tbody>\n",
       "</table>\n",
       "</div>"
      ],
      "text/plain": [
       "           model device  batch_size  peak_mem_mb  time_per_sample\n",
       "0  IndoBERT-lite    CPU           1  1269.070312         0.021330\n",
       "1  IndoBERT-lite    GPU           1    55.974609         0.006908\n",
       "2  DistilRoBERTa    CPU           1  1522.238281         0.015379\n",
       "3  DistilRoBERTa    GPU           1   373.151855         0.004164\n",
       "4  IndoBERT-lite    CPU           4  1268.304688         0.005356"
      ]
     },
     "execution_count": 19,
     "metadata": {},
     "output_type": "execute_result"
    }
   ],
   "source": [
    "df_benchmark = pd.read_csv(\"data/benchmark_batchsize.csv\")\n",
    "df_benchmark.head()"
   ]
  },
  {
   "cell_type": "code",
   "execution_count": 20,
   "id": "f70b3acb",
   "metadata": {},
   "outputs": [
    {
     "data": {
      "image/png": "[encoded data removed]",
      "text/plain": [
       "<Figure size 1000x600 with 1 Axes>"
      ]
     },
     "metadata": {},
     "output_type": "display_data"
    }
   ],
   "source": [
    "plt.figure(figsize=(10, 6))\n",
    "sns.lineplot(\n",
    "    data=df_benchmark,\n",
    "    x=\"batch_size\",\n",
    "    y=\"time_per_sample\",\n",
    "    hue=\"model\",\n",
    "    style=\"device\",\n",
    "    markers=True,\n",
    "    dashes=False\n",
    ")\n",
    "plt.xscale('log', base=2)\n",
    "plt.yscale('log')\n",
    "plt.title(\"Time per Sample vs Batch Size (log scale)\")\n",
    "plt.xlabel(\"Batch Size (log scale)\")\n",
    "plt.ylabel(\"Time per Sample (s, log scale)\")\n",
    "plt.tight_layout()\n",
    "plt.show()\n"
   ]
  },
  {
   "cell_type": "code",
   "execution_count": 5,
   "id": "b09056cc",
   "metadata": {},
   "outputs": [
    {
     "data": {
      "image/png": "[encoded data removed]",
      "text/plain": [
       "<Figure size 1000x600 with 1 Axes>"
      ]
     },
     "metadata": {},
     "output_type": "display_data"
    }
   ],
   "source": [
    "plt.figure(figsize=(10, 6))\n",
    "sns.lineplot(\n",
    "    data=df_benchmark,\n",
    "    x=\"batch_size\",\n",
    "    y=\"peak_mem_mb\",\n",
    "    hue=\"model\",\n",
    "    style=\"device\",\n",
    "    markers=True,\n",
    "    dashes=False\n",
    ")\n",
    "plt.xscale('log', base=2)\n",
    "plt.title(\"Peak Memory Usage vs Batch Size\")\n",
    "plt.xlabel(\"Batch Size (log scale)\")\n",
    "plt.ylabel(\"Peak Memory (MB)\")\n",
    "plt.tight_layout()\n",
    "plt.show()\n"
   ]
  },
  {
   "cell_type": "code",
   "execution_count": 14,
   "id": "622ddb45",
   "metadata": {},
   "outputs": [
    {
     "data": {
      "image/png": "[encoded data removed]",
      "text/plain": [
       "<Figure size 1000x600 with 2 Axes>"
      ]
     },
     "metadata": {},
     "output_type": "display_data"
    }
   ],
   "source": [
    "pivot_time = df_benchmark.pivot_table(index=['model', 'device'], columns='batch_size', values='time_per_sample')\n",
    "plt.figure(figsize=(10, 6))\n",
    "sns.heatmap(pivot_time, annot=True, fmt=\".4f\", cmap=\"YlGnBu\")\n",
    "plt.title('Heatmap of Time per Sample')\n",
    "plt.show()"
   ]
  }
 ],
 "metadata": {
  "kernelspec": {
   "display_name": "env",
   "language": "python",
   "name": "python3"
  },
  "language_info": {
   "codemirror_mode": {
    "name": "ipython",
    "version": 3
   },
   "file_extension": ".py",
   "mimetype": "text/x-python",
   "name": "python",
   "nbconvert_exporter": "python",
   "pygments_lexer": "ipython3",
   "version": "3.10.5"
  }
 },
 "nbformat": 4,
 "nbformat_minor": 5
}
